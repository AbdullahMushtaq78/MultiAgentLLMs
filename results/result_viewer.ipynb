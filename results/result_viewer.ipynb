{
 "cells": [
  {
   "cell_type": "code",
   "execution_count": null,
   "metadata": {},
   "outputs": [],
   "source": [
    "import os\n",
    "import pandas as pd\n",
    "\n",
    "files = os.listdir()\n",
    "filtered_files = [\n",
    "    f for f in files if f.startswith(\"essays_count_\") and f.endswith(\".csv\")\n",
    "]\n",
    "filtered_files.sort(key=lambda x: x.split('_')[3] + x.split('_')[4])\n",
    "latest_file = filtered_files[-1]\n",
    "df = pd.read_csv(latest_file)"
   ]
  }
 ],
 "metadata": {
  "kernelspec": {
   "display_name": "camel",
   "language": "python",
   "name": "python3"
  },
  "language_info": {
   "name": "python",
   "version": "3.10.14"
  }
 },
 "nbformat": 4,
 "nbformat_minor": 2
}
